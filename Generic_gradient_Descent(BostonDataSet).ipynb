{
 "cells": [
  {
   "cell_type": "code",
   "execution_count": 1,
   "metadata": {},
   "outputs": [],
   "source": [
    "import numpy as np\n",
    "import pandas as pd\n",
    "from sklearn import model_selection"
   ]
  },
  {
   "cell_type": "code",
   "execution_count": 3,
   "metadata": {},
   "outputs": [],
   "source": [
    "training_data = np.loadtxt(\"training_boston_x_y_train.csv\", delimiter = ',')\n",
    "x_test_data = np.loadtxt(\"test_boston_x_test.csv\", delimiter = ',')\n",
    "x_test_data = pd.DataFrame(x_test_data)"
   ]
  },
  {
   "cell_type": "code",
   "execution_count": 23,
   "metadata": {},
   "outputs": [],
   "source": [
    "def step_grad(points,learning_rate,m,c):\n",
    "    m_slope = np.zeros(13)\n",
    "    c_slope = 0\n",
    "    N = len(points)\n",
    "    for i in range(len(points)):\n",
    "        x = points[i][:13] \n",
    "        y = points[i][13:]\n",
    "        \n",
    "        mult_term = 0\n",
    "        for q in range(12):\n",
    "            mult_term += m[q]*x[q]\n",
    "            \n",
    "        for j in range(13):\n",
    "            m_slope[j] += (-2/N)*(y[0] - mult_term - c)*(x[j])\n",
    "            \n",
    "            c_slope += (-2/N)*(y[0] - mult_term - c)\n",
    "        \n",
    "        new_m = m - (learning_rate*m_slope)\n",
    "        new_c = c - (learning_rate*c_slope)\n",
    "        \n",
    "    return new_m,new_c"
   ]
  },
  {
   "cell_type": "code",
   "execution_count": 5,
   "metadata": {},
   "outputs": [],
   "source": [
    "def gd(points,learning_rate,num_iter):\n",
    "    m = np.zeros(13)\n",
    "    c = 0 \n",
    "    for i in range(num_iter):\n",
    "        m,c = step_grad(points, learning_rate, m,c)\n",
    "        #print(i, \"Cost: \",cost(points,m,c))\n",
    "    return m, c"
   ]
  },
  {
   "cell_type": "code",
   "execution_count": 6,
   "metadata": {},
   "outputs": [],
   "source": [
    "def predict(x,m,c):\n",
    "    y_arr = []\n",
    "    for i in range(13):\n",
    "        y = 0\n",
    "        for j in range(127):\n",
    "            y = y + m[i]*x[i][j] + c\n",
    "        y_arr.append(y)\n",
    "    return y_arr"
   ]
  },
  {
   "cell_type": "code",
   "execution_count": 7,
   "metadata": {},
   "outputs": [],
   "source": [
    "def cost(points,m,c):\n",
    "    total_cost = 0\n",
    "    M = len(points)\n",
    "    for i in range(M):\n",
    "        x = points[i][:13]\n",
    "        y = points[i][13:]\n",
    "        total_cost += (1/M)*((y-m*x-c)**2)\n",
    "    return total_cost"
   ]
  },
  {
   "cell_type": "code",
   "execution_count": 11,
   "metadata": {},
   "outputs": [],
   "source": [
    "def run():\n",
    "    data = np.loadtxt(\"training_boston_x_y_train.csv\", delimiter = ',')\n",
    "    learning_rate = 0.08\n",
    "    num_iter = 100\n",
    "    m , c = gd(data, learning_rate, num_iter)\n",
    "    ans = pd.DataFrame(m)\n",
    "    ans[\"c\"]= c\n",
    "    return m , c"
   ]
  },
  {
   "cell_type": "code",
   "execution_count": 25,
   "metadata": {},
   "outputs": [],
   "source": [
    "m , c = run()\n"
   ]
  },
  {
   "cell_type": "code",
   "execution_count": 26,
   "metadata": {},
   "outputs": [
    {
     "name": "stdout",
     "output_type": "stream",
     "text": [
      "(13,)\n",
      "-61566.44602687553\n"
     ]
    }
   ],
   "source": [
    "print(m.shape)\n",
    "print(c)"
   ]
  },
  {
   "cell_type": "code",
   "execution_count": 13,
   "metadata": {},
   "outputs": [
    {
     "data": {
      "text/plain": [
       "[-7817672.403951271,\n",
       " -7818987.924135966,\n",
       " -7815217.742352966,\n",
       " -7817246.08957379,\n",
       " -7816362.239972127,\n",
       " -7817493.089798405,\n",
       " -7815022.350254101,\n",
       " -7818892.275374321,\n",
       " -7813937.509899671,\n",
       " -7813726.485946117,\n",
       " -7817859.895912292,\n",
       " -7818120.750073832,\n",
       " -7817621.457934741]"
      ]
     },
     "execution_count": 13,
     "metadata": {},
     "output_type": "execute_result"
    }
   ],
   "source": [
    "y_test_pred = predict(x_test_data,m,c)\n",
    "y_test_pred"
   ]
  }
 ],
 "metadata": {
  "kernelspec": {
   "display_name": "Python 3",
   "language": "python",
   "name": "python3"
  },
  "language_info": {
   "codemirror_mode": {
    "name": "ipython",
    "version": 3
   },
   "file_extension": ".py",
   "mimetype": "text/x-python",
   "name": "python",
   "nbconvert_exporter": "python",
   "pygments_lexer": "ipython3",
   "version": "3.7.6"
  }
 },
 "nbformat": 4,
 "nbformat_minor": 4
}
